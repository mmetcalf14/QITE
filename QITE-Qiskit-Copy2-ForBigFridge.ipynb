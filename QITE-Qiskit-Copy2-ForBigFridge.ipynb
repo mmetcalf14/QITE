{
 "cells": [
  {
   "cell_type": "markdown",
   "metadata": {},
   "source": [
    "# Quantum Imaginary Time Evolution with Bigfridge, single qubit\n"
   ]
  },
  {
   "cell_type": "markdown",
   "metadata": {},
   "source": [
    "In this notebook we generate the effective unitary operator for imaginary time-evolution using the QITE algorithm. \n",
    "$$ U = e^{iX} $$\n",
    "$$ X = \\sum_m x_mP_m$$\n",
    "The operator X is a sum of Paulis and can be represented in Qiskit using the Pauli class. From this class we can construct an evolution circuit for Hamiltonians\n",
    "$$U_t = e^{-iHt}$$\n",
    "with $t = 1$. Note the difference in sign of the two unitaries. I explicitly change the sign of the operator X before constructing the evolution circuit."
   ]
  },
  {
   "cell_type": "markdown",
   "metadata": {},
   "source": [
    "### QITE Numerics, using the measured expectation values"
   ]
  },
  {
   "cell_type": "code",
   "execution_count": 1,
   "metadata": {},
   "outputs": [],
   "source": [
    "import numpy as np\n",
    "from hamiltonian      import Heisenberg_LR,Heisenberg_SR,print_Hamiltonian, Hmat, TransverseIsing, single_qubit_field\n",
    "from mf               import hom_mf_solution,hom_mf_state,hom_mf_energy,mf_solution,mf_state,mf_energy\n",
    "#from ite              import ITE_FCI\n",
    "#from qite             import QITE\n",
    "from binary_functions import Bas2Int\n",
    "from math import ceil, floor, pi, sqrt\n",
    "from   scipy            import linalg as SciLA\n",
    "import scipy\n",
    "from   numpy            import linalg as LA\n",
    "import sys\n",
    "import matplotlib.pyplot as plt\n",
    "from matplotlib import rc"
   ]
  },
  {
   "cell_type": "code",
   "execution_count": 2,
   "metadata": {},
   "outputs": [
    {
     "name": "stdout",
     "output_type": "stream",
     "text": [
      "[0]\n",
      "\n",
      "[[ 0.70710678+0.j  0.70710678+0.j]\n",
      " [ 0.70710678+0.j -0.70710678+0.j]]\n",
      "Hamiltonian\n",
      "active qubits  [0]\n",
      "operators: \n",
      "X 0.7071067811865475\n",
      "Z 0.7071067811865475\n"
     ]
    }
   ],
   "source": [
    "nspin =  1\n",
    "R     =  0.5\n",
    "db    =  0.7\n",
    "bmax  =  3.00\n",
    "J = 1/np.sqrt(2)\n",
    "h = J\n",
    "H = TransverseIsing(nspin, R, J, h)\n",
    "print('Hamiltonian')\n",
    "print_Hamiltonian(H)\n",
    "psi_0       = np.zeros(2**nspin,dtype=complex)\n",
    "xvec        = [0,1]*ceil((nspin/2))\n",
    "xind        = Bas2Int(xvec,2)\n",
    "psi_0[0] = 1.0"
   ]
  },
  {
   "cell_type": "markdown",
   "metadata": {},
   "source": [
    "### Definitions of the functions, can be put in a separate file"
   ]
  },
  {
   "cell_type": "code",
   "execution_count": 3,
   "metadata": {},
   "outputs": [],
   "source": [
    "# Defs of the needed functions, for 1 qubit for now\n",
    "\n",
    "# Pauli matrices\n",
    "Id= np.array([[1, 0],[0, 1]])\n",
    "sigma_x = np.array([[0, 1],[1, 0]])\n",
    "sigma_y = np.array([[0, -1j],[1j, 0]])\n",
    "sigma_z = np.array([[1, 0],[0, -1]])\n",
    "\n",
    "# Gives 4 expectation values from a wavefunction as psi_0:\n",
    "# This one is only useful to run this on my computer, won't be used on the experimental setup\n",
    "def GiveExpValues(psi):\n",
    "    return np.array([np.dot(psi,np.dot(Id,psi)),np.dot(psi,np.dot(sigma_x,psi)),np.dot(psi,np.dot(sigma_y,psi)),np.dot(psi,np.dot(sigma_z,psi))])\n",
    "\n",
    "# Table gives Pauli matrix from product of pauli matrices sigma_i*sigma_j. Two indices go from 0 to 3\n",
    "TablePauliMatrices=np.array([[0, 1, 2, 3],\n",
    "                               [1, 0, 3, 2],\n",
    "                               [2, 3, 0, 1],\n",
    "                               [3, 2, 1, 0]])\n",
    "TableCoeffPauliMatrices=np.array([[1, 1, 1, 1],\n",
    "                                   [1, 1, 1j, -1j],\n",
    "                                   [1, -1j, 1, 1j],\n",
    "                                   [1, 1j, -1j, 1]])\n",
    "\n",
    "# Compute Norm of the vector evolved after one step, from the Expectation Values of the pauli\n",
    "def ComputeNormFromExpectValues(ExpectationValues, db, h):\n",
    "    Normsq=0\n",
    "    Pm_coeffs=np.array([1-db*h[0], -db*h[1],-db*h[2],-db*h[3]])\n",
    "    for i1 in range(4):\n",
    "        for i2 in range(4):\n",
    "            Normsq+=np.conj(Pm_coeffs[i1])*Pm_coeffs[i2]*TableCoeffPauliMatrices[i1,i2]*ExpectationValues[TablePauliMatrices[i1,i2]]\n",
    "    return np.sqrt(Normsq)\n",
    "\n",
    "# Compute the A matrix\n",
    "def ComputeAmat(ExpectationValues):\n",
    "    AmatUs=np.zeros((4,4))\n",
    "    for i1 in range(4):\n",
    "        for i2 in range(4):\n",
    "            AmatUs[i1,i2]=2*np.real(TableCoeffPauliMatrices[i1,i2]*ExpectationValues[TablePauliMatrices[i1,i2]])\n",
    "    return AmatUs\n",
    "\n",
    "# Compute the b vector\n",
    "def Computebvec(ExpectationValues,db,h,Norm):\n",
    "    bvecUs=np.zeros(4)\n",
    "    Pm_coeffs=np.array([1-db*h[0], -db*h[1],-db*h[2],-db*h[3]])\n",
    "    for i1 in range(4):\n",
    "        for i2 in range(4):\n",
    "            bvecUs[i1]+=2*np.imag(np.conj(Pm_coeffs[i2])/Norm*TableCoeffPauliMatrices[i2,i1]*ExpectationValues[TablePauliMatrices[i2,i1]])\n",
    "    bvecUs=-bvecUs # I don't now why the minus, but matches result of qite.py\n",
    "    return bvecUs\n",
    "\n",
    "# Now solve Ax=b, following their code in qite.py\n",
    "def Getxvector(AmatUs,bvecUs):\n",
    "    zct  = np.dot(bvecUs,AmatUs)\n",
    "    def cost_fun(vct):\n",
    "        return LA.norm(np.dot(AmatUs,vct)-bvecUs)**2\n",
    "    def J_cost_fun(vct):\n",
    "        wct = np.dot(AmatUs,vct)\n",
    "        wct = np.dot(AmatUs.T,wct)\n",
    "        return 2.0*(wct-zct)\n",
    "    x0=np.zeros(4)\n",
    "    x    = scipy.optimize.minimize(cost_fun,x0,method='Newton-CG',jac=J_cost_fun,tol=1e-8).x\n",
    "    return x\n",
    "\n",
    "def ComputeEnergy(ExpectationValues,h):\n",
    "    Energy=0\n",
    "    for i1 in range(4):\n",
    "        Energy+=h[i1]*ExpectationValues[i1]\n",
    "    return Energy\n",
    "\n",
    "# This function will have to be translated for the experimental setup\n",
    "def Rotation_y(theta):\n",
    "    return np.cos(theta)*Id+1j*np.sin(theta)*sigma_y"
   ]
  },
  {
   "cell_type": "code",
   "execution_count": 4,
   "metadata": {},
   "outputs": [],
   "source": [
    "# We define here our qite algo\n",
    "\n",
    "# I need to get h: \n",
    "(A,h,imp,gmp) = H[0]\n",
    "\n",
    "# Def psi_0\n",
    "psi_0       = np.zeros(2**nspin,dtype=complex)\n",
    "psi_0[0] = 1.0\n",
    "\n",
    "nbeta = int(bmax/db)+1\n",
    "xarray=np.zeros((nbeta,4))\n",
    "Energies=[]\n",
    "psi=psi_0\n",
    "for ib in range(nbeta):\n",
    "    \n",
    "    ExpectationValues=GiveExpValues(psi) # We get this from qpu instead\n",
    "    \n",
    "    Norm=ComputeNormFromExpectValues(ExpectationValues, db, h)\n",
    "    AmatUs=ComputeAmat(ExpectationValues)\n",
    "    bvecUs=Computebvec(ExpectationValues,db,h,Norm)\n",
    "    x=Getxvector(AmatUs,bvecUs)\n",
    "    #xlist.append(x)\n",
    "    xarray[ib]=x\n",
    "    Energy=ComputeEnergy(ExpectationValues,h)\n",
    "    Energies.append(Energy)\n",
    "    #print(Energy)\n",
    "    psi=np.dot(Rotation_y(np.sum(xarray[:,2])),psi_0) # We extract sequence from here, simple for now. With pi/2, Rz(angle), pi/2\n",
    "    #print(psi)"
   ]
  },
  {
   "cell_type": "code",
   "execution_count": 5,
   "metadata": {},
   "outputs": [],
   "source": [
    "# We define here our qite algo, just compare if we use another chi'...\n",
    "\n",
    "# I need to get h: \n",
    "(A,h,imp,gmp) = H[0]\n",
    "\n",
    "# Def psi_0\n",
    "psi_0       = np.zeros(2**nspin,dtype=complex)\n",
    "psi_0[0] = 1.0\n",
    "\n",
    "xlist=[]\n",
    "Energies2=[]\n",
    "\n",
    "nbeta = int(bmax/db)+1\n",
    "psi=psi_0\n",
    "for ib in range(nbeta):\n",
    "    ExpectationValues=GiveExpValues(psi)\n",
    "    Norm=ComputeNormFromExpectValues(ExpectationValues, db, h)\n",
    "    AmatUs=ComputeAmat(ExpectationValues)\n",
    "    bvecUs=Computebvec(ExpectationValues,db,h,Norm)\n",
    "    x=Getxvector(AmatUs,bvecUs)\n",
    "    xlist.append(x)\n",
    "    Energy=ComputeEnergy(ExpectationValues,h)\n",
    "    Energies2.append(Energy)\n",
    "    #print(Energy)\n",
    "    #psi=np.dot(Rotation_y(x[2]),psi)\n",
    "    #or \n",
    "    Pm_coeffs=np.array([1-db*h[0], -db*h[1],-db*h[2],-db*h[3]])\n",
    "    psi=np.dot(Pm_coeffs[0]*Id+Pm_coeffs[1]*sigma_x+Pm_coeffs[2]*sigma_y+Pm_coeffs[3]*sigma_z,psi)/Norm"
   ]
  },
  {
   "cell_type": "code",
   "execution_count": 6,
   "metadata": {},
   "outputs": [
    {
     "name": "stderr",
     "output_type": "stream",
     "text": [
      "/Library/Frameworks/Python.framework/Versions/3.7/lib/python3.7/site-packages/numpy/core/numeric.py:591: ComplexWarning: Casting complex values to real discards the imaginary part\n",
      "  return array(a, dtype, copy=False, order=order, subok=True)\n",
      "/Library/Frameworks/Python.framework/Versions/3.7/lib/python3.7/site-packages/matplotlib/font_manager.py:1241: UserWarning: findfont: Font family ['sans-serif'] not found. Falling back to DejaVu Sans.\n",
      "  (prop.get_family(), self.defaultFamily[fontext]))\n",
      "/Library/Frameworks/Python.framework/Versions/3.7/lib/python3.7/site-packages/matplotlib/font_manager.py:1241: UserWarning: findfont: Font family ['sans-serif'] not found. Falling back to DejaVu Sans.\n",
      "  (prop.get_family(), self.defaultFamily[fontext]))\n",
      "/Library/Frameworks/Python.framework/Versions/3.7/lib/python3.7/site-packages/matplotlib/font_manager.py:1241: UserWarning: findfont: Font family ['sans-serif'] not found. Falling back to DejaVu Sans.\n",
      "  (prop.get_family(), self.defaultFamily[fontext]))\n"
     ]
    },
    {
     "data": {
      "image/png": "[encoded data removed]",
      "text/plain": [
       "<Figure size 1080x576 with 1 Axes>"
      ]
     },
     "metadata": {
      "needs_background": "light"
     },
     "output_type": "display_data"
    }
   ],
   "source": [
    "rc('font',**{'family':'sans-serif','sans-serif':['Helvetica']})\n",
    "rc('text', usetex=True)\n",
    "fig = plt.figure(figsize=(15,8))\n",
    "plt1 = fig.add_subplot(111)\n",
    "\n",
    "plt1.scatter(np.linspace(0,bmax,nbeta,endpoint=False),Energies, color='xkcd:green', label='QITE using x')\n",
    "plt1.scatter(np.linspace(0,bmax,nbeta,endpoint=False),Energies2, color='xkcd:purple', label='QITE using Pmcoeffs')\n",
    "\n",
    "plt1.set_ylabel('E', fontsize=14)\n",
    "plt1.set_xlabel(r'$\\beta$',fontsize=16)\n",
    "plt.legend(loc='upper right', fontsize=16)\n",
    "plt.show()"
   ]
  },
  {
   "cell_type": "code",
   "execution_count": null,
   "metadata": {},
   "outputs": [],
   "source": []
  }
 ],
 "metadata": {
  "kernelspec": {
   "display_name": "Python 3",
   "language": "python",
   "name": "python3"
  },
  "language_info": {
   "codemirror_mode": {
    "name": "ipython",
    "version": 3
   },
   "file_extension": ".py",
   "mimetype": "text/x-python",
   "name": "python",
   "nbconvert_exporter": "python",
   "pygments_lexer": "ipython3",
   "version": "3.7.6"
  }
 },
 "nbformat": 4,
 "nbformat_minor": 4
}
