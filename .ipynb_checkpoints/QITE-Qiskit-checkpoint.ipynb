{
 "cells": [
  {
   "cell_type": "markdown",
   "metadata": {},
   "source": [
    "# Quantum Imaginary Time Evolution with Qiskit\n"
   ]
  },
  {
   "cell_type": "markdown",
   "metadata": {},
   "source": [
    "In this notebook we generate the effective unitary operator for imaginary time-evolution using the QITE algorithm. \n",
    "$$ U = e^{iX} $$\n",
    "$$ X = \\sum_m x_mP_m$$\n",
    "The operator X is a sum of Paulis and can be represented in Qiskit using the Pauli class. From this class we can construct an evolution circuit for Hamiltonians\n",
    "$$U_t = e^{-iHt}$$\n",
    "with $t = 1$. Note the difference in sign of the two unitaries. I explicitly change the sign of the operator X before constructing the evolution circuit."
   ]
  },
  {
   "cell_type": "markdown",
   "metadata": {},
   "source": [
    "### QITE Numerics"
   ]
  },
  {
   "cell_type": "code",
   "execution_count": 1,
   "metadata": {},
   "outputs": [],
   "source": [
    "import numpy as np\n",
    "from hamiltonian      import Heisenberg_LR,Heisenberg_SR,print_Hamiltonian, Hmat, TransverseIsing, single_qubit_field\n",
    "from mf               import hom_mf_solution,hom_mf_state,hom_mf_energy,mf_solution,mf_state,mf_energy\n",
    "from ite              import ITE_FCI\n",
    "from qite             import QITE\n",
    "from binary_functions import Bas2Int\n",
    "from math import ceil, floor, pi, sqrt\n",
    "\n"
   ]
  },
  {
   "cell_type": "code",
   "execution_count": 33,
   "metadata": {},
   "outputs": [
    {
     "name": "stdout",
     "output_type": "stream",
     "text": [
      "[0]\n",
      "\n",
      "[[ 0.70710678+0.j  0.70710678+0.j]\n",
      " [ 0.70710678+0.j -0.70710678+0.j]]\n",
      "Hamiltonian\n",
      "active qubits  [0]\n",
      "operators: \n",
      "X 0.7071067811865475\n",
      "Z 0.7071067811865475\n"
     ]
    }
   ],
   "source": [
    "nspin =  1\n",
    "R     =  0.5\n",
    "db    =  0.5\n",
    "bmax  =  2.00\n",
    "J = 1/np.sqrt(2)\n",
    "h = J\n",
    "H = TransverseIsing(nspin, R, J, h)\n",
    "print('Hamiltonian')\n",
    "print_Hamiltonian(H)\n",
    "psi_0       = np.zeros(2**nspin,dtype=complex)\n",
    "xvec        = [0,1]*ceil((nspin/2))\n",
    "xind        = Bas2Int(xvec,2)\n",
    "psi_0[0] = 1.0"
   ]
  },
  {
   "cell_type": "markdown",
   "metadata": {},
   "source": [
    "Run the QITE algorithm and ITE algorithm for numerical comparison. The QITE algorithm return the data and a dictionary containing the operator for each time step."
   ]
  },
  {
   "cell_type": "code",
   "execution_count": 34,
   "metadata": {},
   "outputs": [
    {
     "name": "stdout",
     "output_type": "stream",
     "text": [
      "0 (0.7071067811865475+0j)\n",
      "1 (-0.7071067811865475+0j)\n",
      "B:  0.0\n",
      "Energy:  0.7071067811865475\n",
      "Pauli Operator\n",
      "active qubits  [0]\n",
      "operators: \n",
      "Y 0.4366519051720329\n",
      "psi:\n",
      " [1.+0.j 0.+0.j]\n",
      "[0.         0.         0.43665191 0.        ]\n",
      "phi:\n",
      " [ 0.90617268+0.j -0.42290789+0.j]\n",
      "B:  0.5\n",
      "Energy:  -0.08779247690430891\n",
      "Pauli Operator\n",
      "active qubits  [0]\n",
      "operators: \n",
      "Y 0.40456520566497156\n",
      "psi:\n",
      " [ 0.90617268+0.j -0.42290789+0.j]\n",
      "[0.         0.         0.40456521 0.        ]\n",
      "phi:\n",
      " [ 0.66655602+0.j -0.74545494+0.j]\n",
      "B:  1.0\n",
      "Energy:  -0.7814810558148545\n",
      "Pauli Operator\n",
      "active qubits  [0]\n",
      "operators: \n",
      "Y 0.20723080927269133\n",
      "psi:\n",
      " [ 0.66655602+0.j -0.74545494+0.j]\n",
      "[0.         0.         0.20723081 0.        ]\n",
      "phi:\n",
      " [ 0.49891676+0.j -0.86664991+0.j]\n",
      "B:  1.5\n",
      "Energy:  -0.9665700438802811\n",
      "Pauli Operator\n",
      "active qubits  [0]\n",
      "operators: \n",
      "Y 0.08163075812100745\n",
      "psi:\n",
      " [ 0.49891676+0.j -0.86664991+0.j]\n",
      "[0.         0.         0.08163076 0.        ]\n",
      "phi:\n",
      " [ 0.42658865+0.j -0.90444576+0.j]\n",
      "B:  2.0\n",
      "Energy:  -0.9953919778021358\n",
      "Pauli Operator\n",
      "active qubits  [0]\n",
      "operators: \n",
      "Y 0.03033711959101012\n",
      "psi:\n",
      " [ 0.42658865+0.j -0.90444576+0.j]\n",
      "[0.         0.         0.03033712 0.        ]\n",
      "phi:\n",
      " [ 0.39895829+0.j -0.91696907+0.j]\n"
     ]
    }
   ],
   "source": [
    "ite_data = ITE_FCI(H,db,bmax,psi0=psi_0)\n",
    "#print(ite_data)\n",
    "qite_data, Xop = QITE(H,db,bmax,lanczos=False,psi0=psi_0,ncheck=10)\n"
   ]
  },
  {
   "cell_type": "code",
   "execution_count": 35,
   "metadata": {},
   "outputs": [
    {
     "data": {
      "image/png": "[encoded data removed]",
      "text/plain": [
       "<Figure size 432x288 with 1 Axes>"
      ]
     },
     "metadata": {
      "needs_background": "light"
     },
     "output_type": "display_data"
    }
   ],
   "source": [
    "import numpy as np\n",
    "import sys\n",
    "import matplotlib.pyplot as plt\n",
    "from matplotlib import rc\n",
    "rc('font',**{'family':'sans-serif','sans-serif':['Helvetica']})\n",
    "rc('text', usetex=True)\n",
    "fig = plt.figure()\n",
    "plt1 = fig.add_subplot(111)\n",
    "\n",
    "plt1.scatter(ite_data[:,0],ite_data[:,1], color='xkcd:purple', label='ITE' )\n",
    "plt1.set_ylabel('E', fontsize=14)\n",
    "plt1.set_xlabel(r'$\\beta$',fontsize=16)\n",
    "plt1.scatter(qite_data[:,0],qite_data[:,1], color='xkcd:green', label='QITE' )\n",
    "plt.legend(loc='upper right', fontsize=16)\n",
    "plt.show()"
   ]
  },
  {
   "cell_type": "markdown",
   "metadata": {},
   "source": [
    "### Qiskit Integration"
   ]
  },
  {
   "cell_type": "markdown",
   "metadata": {},
   "source": [
    "The operator X needs to be converted into the Pauli form $\\left[x_m, \\text{Pauli}(\"P_m\")\\right]$ to construct the evolution operator. Currently it is an odd format by Mario's design."
   ]
  },
  {
   "cell_type": "code",
   "execution_count": 6,
   "metadata": {},
   "outputs": [],
   "source": [
    "from   binary_functions import Bas2Int,Int2Bas,Opp2Str\n",
    "from qiskit.quantum_info.operators import Pauli"
   ]
  },
  {
   "cell_type": "code",
   "execution_count": 36,
   "metadata": {},
   "outputs": [
    {
     "name": "stdout",
     "output_type": "stream",
     "text": [
      "{0.0: [[-0.4366519051720329, Pauli(z=[True], x=[True])]], 0.5: [[-0.40456520566497156, Pauli(z=[True], x=[True])]], 1.0: [[-0.20723080927269133, Pauli(z=[True], x=[True])]], 1.5: [[-0.08163075812100745, Pauli(z=[True], x=[True])]], 2.0: [[-0.03033711959101012, Pauli(z=[True], x=[True])]]}\n"
     ]
    }
   ],
   "source": [
    "def pauli_conversion(M, sgn=False):\n",
    "    paulis = []\n",
    "    for (A,h,imp,gmp) in M:\n",
    "        nact = len(A)\n",
    "        for m in np.where(np.abs(h)>1e-8)[0]:\n",
    "            #print(Opp2Str(Int2Bas(m,4,nact)),h[m])\n",
    "            # The -1 multiplicative factor is for time-evolution circuit\n",
    "            if sgn: x=-1\n",
    "            else: x = 1\n",
    "            paulis.append([x*h[m],Pauli(label=Opp2Str(Int2Bas(m,4,nact)))])\n",
    "    \n",
    "    return paulis\n",
    "\n",
    "pauli_dict = {}\n",
    "for beta, op in Xop.items():\n",
    "    #print_Hamiltonian(op)\n",
    "    pauli_dict[beta] = pauli_conversion(op, True)\n",
    "\n",
    "print(pauli_dict)"
   ]
  },
  {
   "cell_type": "markdown",
   "metadata": {},
   "source": [
    "### Building the circuit to get the wavefunction\n"
   ]
  },
  {
   "cell_type": "code",
   "execution_count": 8,
   "metadata": {},
   "outputs": [],
   "source": [
    "from qiskit import Aer, QuantumCircuit, QuantumRegister, ClassicalRegister\n",
    "from qiskit.compiler import transpile \n",
    "from qiskit.aqua.operators import WeightedPauliOperator, evolution_circuit\n"
   ]
  },
  {
   "cell_type": "code",
   "execution_count": 64,
   "metadata": {},
   "outputs": [
    {
     "name": "stdout",
     "output_type": "stream",
     "text": [
      "QuantumRegister(1, 'q0')\n",
      "cnot pairs:  [None]\n",
      "QuantumRegister(1, 'q0')\n",
      "cnot pairs:  [None]\n",
      "QuantumRegister(1, 'q0')\n",
      "cnot pairs:  [None]\n",
      "QuantumRegister(1, 'q0')\n",
      "cnot pairs:  [None]\n",
      "QuantumRegister(1, 'q0')\n",
      "cnot pairs:  [None]\n",
      "         \n",
      "q0_0: |0>\n",
      "         \n",
      " c0_0: 0 \n",
      "         \n",
      "6\n",
      "\n"
     ]
    }
   ],
   "source": [
    "register_name = 'q0'\n",
    "qreg = QuantumRegister(nspin, name=register_name)\n",
    "creg = ClassicalRegister(nspin, name = 'c0')\n",
    "qcirc = QuantumCircuit(qreg,creg)\n",
    "#print(qcirc)\n",
    "circuit_list = [qcirc.copy()]\n",
    "\n",
    "for beta, op in pauli_dict.items():\n",
    "    evo_cirq = evolution_circuit(op, evo_time=1, num_time_slices=1,\n",
    "                          controlled=False, power=1,\n",
    "                          use_basis_gates=False, shallow_slicing=False,\n",
    "                          barrier=False, reg_name = register_name)\n",
    "    qcirc.extend(evo_cirq)\n",
    "    #print(qcirc)\n",
    "    compiled_cirq = transpile(qcirc, optimization_level=3)\n",
    "    #print(compiled_cirq.depth())\n",
    "    circuit_list.append(compiled_cirq)\n",
    "    #circuit_list.append(qcirc)\n",
    "print(circuit_list[0])\n",
    "print(len(circuit_list))\n",
    "print()\n"
   ]
  },
  {
   "cell_type": "markdown",
   "metadata": {},
   "source": [
    "The above circuits generate the wave-function $|\\psi\\rangle$, but an additional method is needed to evaluate the energy $\\langle H \\rangle$. This can be done with the 'construct_evaluation_circuit' function in the WeightedPauliOperator class. Ideally, we create a bundle of circuits to execute "
   ]
  },
  {
   "cell_type": "markdown",
   "metadata": {},
   "source": [
    "#### Hamiltonian and Energy"
   ]
  },
  {
   "cell_type": "code",
   "execution_count": 65,
   "metadata": {},
   "outputs": [
    {
     "name": "stdout",
     "output_type": "stream",
     "text": [
      "[[0.7071067811865475, Pauli(z=[False], x=[True])], [0.7071067811865475, Pauli(z=[True], x=[False])]]\n",
      "0\n",
      "1\n",
      "2\n",
      "3\n",
      "4\n"
     ]
    }
   ],
   "source": [
    "h_p = pauli_conversion(H, False)\n",
    "print(h_p)\n",
    "operator = WeightedPauliOperator(paulis=h_p)\n",
    "operator.construct_evaluation_circuit(circuit_list[0], statevector_mode = True, qr = qreg, \n",
    "                                                       cr = creg, circuit_name_prefix= 'b05')\n",
    "ham_circuits = []\n",
    "for key, val in enumerate(Xop):\n",
    "    print(key)\n",
    "    ham_circuits.append(operator.construct_evaluation_circuit(circuit_list[key], statevector_mode = True, qr = qreg, \n",
    "                                                    cr = creg, circuit_name_prefix= 'b05'))\n",
    "    key += 1\n",
    "\n",
    "#trial_circuit = operator.construct_evaluation_circuit(circuit_list[0], statevector_mode = True, qr = qreg, \n",
    "#                                                       cr = creg, circuit_name_prefix= 'b05')\n",
    "    \n",
    "#print(ham_circuits[0][0])"
   ]
  },
  {
   "cell_type": "code",
   "execution_count": 15,
   "metadata": {},
   "outputs": [],
   "source": [
    "from qiskit import execute\n",
    "backend = Aer.get_backend('statevector_simulator')"
   ]
  },
  {
   "cell_type": "code",
   "execution_count": 66,
   "metadata": {},
   "outputs": [
    {
     "name": "stdout",
     "output_type": "stream",
     "text": [
      "[[ 0.          0.70710678]\n",
      " [ 0.5        -0.08779248]\n",
      " [ 1.         -0.78148106]\n",
      " [ 1.5        -0.96657004]\n",
      " [ 2.         -0.99539198]]\n"
     ]
    }
   ],
   "source": [
    "\n",
    "energies = np.zeros((len(ham_circuits),2))\n",
    "for key, val in enumerate(Xop):\n",
    "    job = execute(ham_circuits[key],backend)\n",
    "    result = job.result()\n",
    "    mean, avg = operator.evaluate_with_result(result,True, use_simulator_snapshot_mode=False, circuit_name_prefix= 'b05')\n",
    "    energies[key,0] = val\n",
    "    energies[key,1] = np.real(mean)\n",
    "print(energies)"
   ]
  },
  {
   "cell_type": "code",
   "execution_count": 68,
   "metadata": {},
   "outputs": [
    {
     "data": {
      "image/png": "[encoded data removed]",
      "text/plain": [
       "<Figure size 432x288 with 1 Axes>"
      ]
     },
     "metadata": {
      "needs_background": "light"
     },
     "output_type": "display_data"
    }
   ],
   "source": [
    "fig=plt.figure()\n",
    "ax=fig.add_axes([0,0,1,1])\n",
    "ax.scatter(ite_data[:,0],ite_data[:,1], color='xkcd:purple', label='ITE' )\n",
    "ax.set_ylabel('E', fontsize=14)\n",
    "ax.set_xlabel(r'$\\beta$',fontsize=16)\n",
    "ax.scatter(qite_data[:,0],qite_data[:,1], color='xkcd:green', label='QITE' )\n",
    "ax.scatter(energies[:,0],energies[:,1], color='xkcd:navy', label='Circ' )\n",
    "plt.legend(loc='upper right', fontsize=16)\n",
    "plt.show()"
   ]
  },
  {
   "cell_type": "code",
   "execution_count": 56,
   "metadata": {},
   "outputs": [
    {
     "name": "stdout",
     "output_type": "stream",
     "text": [
      "         ┌──────────┐                          ┌───────────┐     »\n",
      "q0_0: |0>┤ Rx(pi/2) ├──■────────────────────■──┤ Rx(-pi/2) ├──■──»\n",
      "         └──────────┘┌─┴─┐┌──────────────┐┌─┴─┐└┬──────────┤┌─┴─┐»\n",
      "q0_1: |0>────────────┤ X ├┤ Rz(-0.39299) ├┤ X ├─┤ Rx(pi/2) ├┤ X ├»\n",
      "                     └───┘└──────────────┘└───┘ └──────────┘└───┘»\n",
      " c0_0: 0 ════════════════════════════════════════════════════════»\n",
      "                                                                 »\n",
      " c0_1: 0 ════════════════════════════════════════════════════════»\n",
      "                                                                 »\n",
      "«                           ┌───┐                              ┌───┐      »\n",
      "«q0_0: ──────────────────■──┤ H ├──■───────────────────■───────┤ H ├──────»\n",
      "«      ┌──────────────┐┌─┴─┐└───┘┌─┴─┐┌─────────────┐┌─┴─┐┌────┴───┴─────┐»\n",
      "«q0_1: ┤ Rz(-0.39299) ├┤ X ├─────┤ X ├┤ Rz(0.11812) ├┤ X ├┤ Rz(-0.39299) ├»\n",
      "«      └──────────────┘└───┘     └───┘└─────────────┘└───┘└──────────────┘»\n",
      "«c0_0: ═══════════════════════════════════════════════════════════════════»\n",
      "«                                                                         »\n",
      "«c0_1: ═══════════════════════════════════════════════════════════════════»\n",
      "«                                                                         »\n",
      "«       ┌──────────┐                              ┌──────────────┐┌───────────┐\n",
      "«q0_0: ─┤ Rx(pi/2) ├───────■───────────────────■──┤ Rz(-0.39299) ├┤ Rx(-pi/2) ├\n",
      "«      ┌┴──────────┤┌───┐┌─┴─┐┌─────────────┐┌─┴─┐└────┬───┬─────┘└───────────┘\n",
      "«q0_1: ┤ Rx(-pi/2) ├┤ H ├┤ X ├┤ Rz(0.11812) ├┤ X ├─────┤ H ├───────────────────\n",
      "«      └───────────┘└───┘└───┘└─────────────┘└───┘     └───┘                   \n",
      "«c0_0: ════════════════════════════════════════════════════════════════════════\n",
      "«                                                                              \n",
      "«c0_1: ════════════════════════════════════════════════════════════════════════\n",
      "«                                                                              \n",
      "[ 0.66286052-0.5228495j  -0.2882474 +0.22736308j -0.2728486 +0.21521685j\n",
      "  0.13978984-0.11026309j]\n"
     ]
    }
   ],
   "source": [
    "#backend = Aer.get_backend('unitary_simulator')\n",
    "#print(pauli_dict[0])\n",
    "print(circuit_list[0])\n",
    "job_trial = execute(circuit_list[0],backend)\n",
    "result = job_trial.result()\n",
    "state_vector = result.get_statevector(circuit_list[0])\n",
    "#unitary = result.get_unitary(circuit_list[0])\n",
    "print(state_vector)"
   ]
  },
  {
   "cell_type": "code",
   "execution_count": null,
   "metadata": {},
   "outputs": [],
   "source": []
  },
  {
   "cell_type": "markdown",
   "metadata": {},
   "source": [
    "### Testing"
   ]
  },
  {
   "cell_type": "code",
   "execution_count": 57,
   "metadata": {},
   "outputs": [
    {
     "name": "stdout",
     "output_type": "stream",
     "text": [
      "[ 0.84287691+0.j -0.37218524+0.j -0.37218524+0.j  0.11186963+0.j]\n",
      "\n",
      "[[ 0.83536171+0.j  0.38786814+0.j  0.38786814+0.j -0.0358807 +0.j]\n",
      " [-0.38786814+0.j  0.91803158+0.j -0.08196842+0.j  0.00758269+0.j]\n",
      " [-0.38786814+0.j -0.08196842+0.j  0.91803158+0.j  0.00758269+0.j]\n",
      " [ 0.0358807 +0.j  0.00758269+0.j  0.00758269+0.j  0.99929854+0.j]]\n"
     ]
    }
   ],
   "source": [
    "import scipy.linalg as la\n",
    "I = np.array([[1,0],[0,1]])\n",
    "X = np.array([[0,1],[1,0]])\n",
    "Y = np.array([[0,-1j],[1j,0]])\n",
    "Z = np.array([[1,0],[0,-1]])\n",
    "H= 0.1964960137908537*np.kron(I,Y)-0.059061813781864606*np.kron(X,Y)\\\n",
    "    + 0.1964960137908537 * np.kron(Y,I)-0.059061813781864606*np.kron(Y,X)\\\n",
    "    + 0.19649601379085377*np.kron(Y,Z)+ 0.19649601379085377*np.kron(Z,Y)\n",
    "print(np.dot(la.expm(1j*H),[1,0,0,0]))\n",
    "U1 = la.expm(1j*0.1964960137908537*np.kron(I,Y))\n",
    "U2 = la.expm(1j*0.1964960137908537*np.kron(Y,I))\n",
    "U3 = la.expm(1j*-0.059061813781864606*np.kron(X,Y))\n",
    "U4 = la.expm(1j*-0.059061813781864606*np.kron(Y,X))\n",
    "U5 = la.expm(1j*0.19649601379085377*np.kron(Z,Y))\n",
    "U6 = la.expm(1j*0.19649601379085377*np.kron(Y,Z))\n",
    "print()\n",
    "print(np.dot(U6,np.dot(U5, np.dot(U4, np.dot(U3, np.dot(U2, U1))))))"
   ]
  },
  {
   "cell_type": "code",
   "execution_count": null,
   "metadata": {},
   "outputs": [],
   "source": []
  }
 ],
 "metadata": {
  "kernelspec": {
   "display_name": "Python 3",
   "language": "python",
   "name": "python3"
  },
  "language_info": {
   "codemirror_mode": {
    "name": "ipython",
    "version": 3
   },
   "file_extension": ".py",
   "mimetype": "text/x-python",
   "name": "python",
   "nbconvert_exporter": "python",
   "pygments_lexer": "ipython3",
   "version": "3.7.6"
  }
 },
 "nbformat": 4,
 "nbformat_minor": 4
}
