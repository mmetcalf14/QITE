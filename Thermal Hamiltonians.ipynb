{
 "cells": [
  {
   "cell_type": "markdown",
   "metadata": {},
   "source": [
    "# Evaluating Spin Correlations in thermal Hamiltonians"
   ]
  },
  {
   "cell_type": "code",
   "execution_count": 16,
   "metadata": {},
   "outputs": [],
   "source": [
    "import numpy as np\n",
    "import scipy.linalg as la\n",
    "import matplotlib.pyplot as plt"
   ]
  },
  {
   "cell_type": "code",
   "execution_count": 3,
   "metadata": {},
   "outputs": [],
   "source": [
    "I = np.array([[1,0],[0,1]])\n",
    "Z = np.array([[1,0],[0,-1]])\n",
    "Y = np.array([[0,-1j],[1j,0]])\n",
    "X = np.array([[0,1],[1,0]])\n",
    "\n",
    "def transverse_ising(g,J):\n",
    "    return J*np.kron(Z,Z) + g*(np.kron(X,I) + np.kron(I,X))"
   ]
  },
  {
   "cell_type": "code",
   "execution_count": 26,
   "metadata": {},
   "outputs": [
    {
     "data": {
      "text/plain": [
       "[Text(0, 0.5, '$\\\\langle \\\\sigma_z^1\\\\sigma_z^2\\\\rangle$'),\n",
       " Text(0.5, 0, '$\\\\beta$'),\n",
       " Text(0.5, 1.0, 'Spin Correlation in 2 site Transverse Ising model')]"
      ]
     },
     "execution_count": 26,
     "metadata": {},
     "output_type": "execute_result"
    },
    {
     "data": {
      "image/png": "[encoded data removed]",
      "text/plain": [
       "<Figure size 432x288 with 1 Axes>"
      ]
     },
     "metadata": {
      "needs_background": "light"
     },
     "output_type": "display_data"
    }
   ],
   "source": [
    "beta = np.arange(-10,10,.1)\n",
    "H = transverse_ising(1,0.5)\n",
    "Zcorr = np.kron(Z,Z)\n",
    "Z1 = np.kron(I,Z)\n",
    "Z2 = np.kron(Z,I)\n",
    "data = np.empty((len(beta),2))\n",
    "for it, bt in enumerate(beta):\n",
    "    rho_th = la.expm(-bt*H)/np.trace(la.expm(-bt*H))\n",
    "    correlation = np.trace(np.dot(Zcorr,rho_th))\n",
    "    spn1_corr = np.trace(np.dot(Z1,rho_th))\n",
    "    spn2_corr = np.trace(np.dot(Z2,rho_th))\n",
    "    #print(correlation, spn1_corr)\n",
    "    data[it][0]= bt\n",
    "    data[it][1] = correlation\n",
    "#print(data)\n",
    "# This is only one piece of spin correlation. Look back to topological insulator work\n",
    "# You can't have long range correlation in 1D but you can have local correlation\n",
    "# With two spins this is local\n",
    "#print(data)\n",
    "fig, ax = plt.subplots()\n",
    "ax.plot(data[:,0], data[:,1])\n",
    "ax.set(xlabel=r'$\\beta$', ylabel=r'$\\langle \\sigma_z^1\\sigma_z^2\\rangle$',\n",
    "       title='Spin Correlation in 2 site Transverse Ising model')\n"
   ]
  },
  {
   "cell_type": "code",
   "execution_count": null,
   "metadata": {},
   "outputs": [],
   "source": []
  }
 ],
 "metadata": {
  "kernelspec": {
   "display_name": "Python 3",
   "language": "python",
   "name": "python3"
  },
  "language_info": {
   "codemirror_mode": {
    "name": "ipython",
    "version": 3
   },
   "file_extension": ".py",
   "mimetype": "text/x-python",
   "name": "python",
   "nbconvert_exporter": "python",
   "pygments_lexer": "ipython3",
   "version": "3.7.6"
  }
 },
 "nbformat": 4,
 "nbformat_minor": 4
}
